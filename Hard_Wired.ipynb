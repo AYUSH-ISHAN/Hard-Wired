{
  "nbformat": 4,
  "nbformat_minor": 0,
  "metadata": {
    "colab": {
      "name": "Hard_Wired.ipynb",
      "provenance": [],
      "collapsed_sections": []
    },
    "kernelspec": {
      "name": "python3",
      "display_name": "Python 3"
    },
    "language_info": {
      "name": "python"
    },
    "accelerator": "GPU"
  },
  "cells": [
    {
      "cell_type": "code",
      "metadata": {
        "colab": {
          "base_uri": "https://localhost:8080/"
        },
        "id": "CeLikRDOfsMW",
        "outputId": "aae26ed7-344b-4d31-836e-abd8dac156f0"
      },
      "source": [
        "import os\n",
        "import numpy as np\n",
        "os.environ[\"TF_CPP_MIN_LOG_LEVEL\"] = \"2\"\n",
        "import tensorflow as tf\n",
        "from tensorflow import keras\n",
        "from tensorflow.keras import layers\n",
        "\n",
        "model = keras.Sequential(\n",
        "    [\n",
        "        layers.Input((32, 32,1)),\n",
        "        layers.Conv2D(512, 3, padding=\"same\",activation='relu'),\n",
        "        layers.Conv2D(256, 3, padding=\"same\",activation='relu'),\n",
        "        layers.Conv2D(128, 3, padding=\"same\",activation='relu'),\n",
        "        layers.MaxPooling2D(),\n",
        "        layers.Flatten(),\n",
        "        layers.Dense(6,activation='softmax'),\n",
        "    ]\n",
        ")\n",
        "\n",
        "ds_train = tf.keras.preprocessing.image_dataset_from_directory(\n",
        "    \"/content/drive/MyDrive/data\",\n",
        "    labels=\"inferred\",\n",
        "    label_mode=\"int\",  # categorical, binary\n",
        "    # class_names=['0', '1', '2', '3', ...]\n",
        "    color_mode=\"grayscale\",\n",
        "    batch_size=32,\n",
        "    image_size=(32, 32),  # reshape if not in this size\n",
        "    shuffle=True,\n",
        "    seed=123,\n",
        "    validation_split=0.1,\n",
        "    subset=\"training\",\n",
        ")\n",
        "model.compile(\n",
        "    optimizer=keras.optimizers.Adam(),\n",
        "    loss='sparse_categorical_crossentropy',\n",
        "    metrics=[\"accuracy\"],\n",
        ")\n",
        "model.fit(ds_train, epochs=19, verbose=2)\n",
        "model.save_weights('my_model_weights.h5')\n"
      ],
      "execution_count": null,
      "outputs": [
        {
          "output_type": "stream",
          "name": "stdout",
          "text": [
            "Found 10321 files belonging to 6 classes.\n",
            "Using 9289 files for training.\n",
            "Epoch 1/19\n",
            "291/291 - 1680s - loss: 0.8893 - accuracy: 0.9620 - 1680s/epoch - 6s/step\n",
            "Epoch 2/19\n",
            "291/291 - 17s - loss: 0.0166 - accuracy: 0.9953 - 17s/epoch - 59ms/step\n",
            "Epoch 3/19\n",
            "291/291 - 17s - loss: 0.0023 - accuracy: 0.9994 - 17s/epoch - 59ms/step\n",
            "Epoch 4/19\n",
            "291/291 - 17s - loss: 1.2565e-04 - accuracy: 1.0000 - 17s/epoch - 60ms/step\n",
            "Epoch 5/19\n",
            "291/291 - 17s - loss: 5.1132e-06 - accuracy: 1.0000 - 17s/epoch - 59ms/step\n",
            "Epoch 6/19\n",
            "291/291 - 17s - loss: 1.3826e-06 - accuracy: 1.0000 - 17s/epoch - 59ms/step\n",
            "Epoch 7/19\n",
            "291/291 - 17s - loss: 9.2441e-07 - accuracy: 1.0000 - 17s/epoch - 59ms/step\n",
            "Epoch 8/19\n",
            "291/291 - 17s - loss: 6.8368e-07 - accuracy: 1.0000 - 17s/epoch - 59ms/step\n",
            "Epoch 9/19\n",
            "291/291 - 17s - loss: 5.3439e-07 - accuracy: 1.0000 - 17s/epoch - 59ms/step\n",
            "Epoch 10/19\n",
            "291/291 - 17s - loss: 4.2515e-07 - accuracy: 1.0000 - 17s/epoch - 59ms/step\n",
            "Epoch 11/19\n",
            "291/291 - 17s - loss: 3.5396e-07 - accuracy: 1.0000 - 17s/epoch - 59ms/step\n",
            "Epoch 12/19\n",
            "291/291 - 17s - loss: 2.9728e-07 - accuracy: 1.0000 - 17s/epoch - 59ms/step\n",
            "Epoch 13/19\n",
            "291/291 - 17s - loss: 2.5138e-07 - accuracy: 1.0000 - 17s/epoch - 60ms/step\n",
            "Epoch 14/19\n",
            "291/291 - 17s - loss: 2.0797e-07 - accuracy: 1.0000 - 17s/epoch - 59ms/step\n",
            "Epoch 15/19\n",
            "291/291 - 17s - loss: 1.7716e-07 - accuracy: 1.0000 - 17s/epoch - 59ms/step\n",
            "Epoch 16/19\n",
            "291/291 - 17s - loss: 1.5742e-07 - accuracy: 1.0000 - 17s/epoch - 60ms/step\n",
            "Epoch 17/19\n",
            "291/291 - 17s - loss: 1.3055e-07 - accuracy: 1.0000 - 17s/epoch - 59ms/step\n",
            "Epoch 18/19\n",
            "291/291 - 17s - loss: 1.0222e-07 - accuracy: 1.0000 - 17s/epoch - 59ms/step\n",
            "Epoch 19/19\n",
            "291/291 - 17s - loss: 8.9871e-08 - accuracy: 1.0000 - 17s/epoch - 60ms/step\n"
          ]
        }
      ]
    }
  ]
}